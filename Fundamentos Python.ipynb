{
 "cells": [
  {
   "cell_type": "code",
   "execution_count": null,
   "metadata": {},
   "outputs": [],
   "source": [
    "print(\"Hola desde Jupyter Noteebook\")"
   ]
  },
  {
   "cell_type": "markdown",
   "metadata": {},
   "source": [
    "# Uso de Variables\n",
    "## Manejo de las Variables mas utilizadas en PYTHON\n",
    "En este bloque veremos los siguientes tipos de datos\n",
    "-  Numerica\n",
    "-  Cadena\n",
    "-  Decimal\n",
    "-  Logica"
   ]
  },
  {
   "cell_type": "code",
   "execution_count": null,
   "metadata": {},
   "outputs": [],
   "source": [
    "# Variable Numerica\n",
    "edad = 28\n",
    "# Variable Cadena\n",
    "nombre = \"Armando Ruiz\"\n",
    "# Variable  Decimal\n",
    "precio = 20.8\n",
    "# Variable Logica\n",
    "Estado = True\n",
    "# Funcion type me devuelve el tipo de dato que tiene la variable\n",
    "print(type(edad))\n",
    "print(type(nombre))\n",
    "print(type(precio))\n",
    "print(type(Estado))\n"
   ]
  },
  {
   "cell_type": "code",
   "execution_count": null,
   "metadata": {},
   "outputs": [],
   "source": []
  },
  {
   "cell_type": "markdown",
   "metadata": {},
   "source": [
    "# Operadores Matematicos\n",
    "- *suma*\n",
    "- **Resta**\n",
    "- **Division Entera**\n",
    "- **Division Decimal**\n",
    "- **Multiplicacion**\n",
    "- **Residuo de la Division**\n"
   ]
  },
  {
   "cell_type": "code",
   "execution_count": null,
   "metadata": {},
   "outputs": [],
   "source": [
    "#Concatenacion de variables\n",
    "print (\"La Edad de\",nombre,\"es\",edad)"
   ]
  },
  {
   "cell_type": "code",
   "execution_count": null,
   "metadata": {},
   "outputs": [],
   "source": [
    "print(2 + 2)\n",
    "print(4 * 8)\n",
    "# Division decimal\n",
    "print(5 / 3)\n",
    "# Division entera\n",
    "print(5 // 3)\n",
    "# Residuo de la division\n",
    "print(23 % 2)"
   ]
  },
  {
   "cell_type": "code",
   "execution_count": null,
   "metadata": {},
   "outputs": [],
   "source": [
    "edad = input(\"Ingrese edad\")"
   ]
  },
  {
   "cell_type": "code",
   "execution_count": null,
   "metadata": {},
   "outputs": [],
   "source": [
    "n1 = int(input(\"ingrese numero 1:\"))\n",
    "n2 = int(input(\"ingrese numero 2:\"))\n",
    "sumar = n1  + n2\n",
    "print (\"el resutado de la suma es:\",sumar)"
   ]
  },
  {
   "cell_type": "code",
   "execution_count": null,
   "metadata": {},
   "outputs": [],
   "source": [
    "# Conversion de tipo de datos\n",
    "# De numerico a cadena\n",
    "print(str(23))\n",
    "# De Numerico a decimal\n",
    "print(float(23))\n",
    "# De Logico a Cadena\n",
    "print(str(True))\n",
    "# de String a Numerico\n",
    "print(int('123'))\n",
    "# de Numerico a Logico\n",
    "print(bool(0))"
   ]
  },
  {
   "cell_type": "markdown",
   "metadata": {},
   "source": [
    "# Manejo de Colecciones Introduccion\n",
    "## Listas , Diccionarios ,Tuplas\n",
    "Te permiten trabajar con mas de un dato a la vez en otros lenguajes se les conoce como ARRAYS"
   ]
  },
  {
   "cell_type": "code",
   "execution_count": null,
   "metadata": {},
   "outputs": [],
   "source": [
    "# Manejo de listas son Inmutables\n",
    "programas = ['python','nodejs','mysql','mongodb']\n",
    "print(type(programas))\n",
    "# Me imprime el valor de la lista indicandole suposicion []\n",
    "print(programas[2])\n",
    "# Me permite añadir un elemento al final de la lista\n",
    "programas.append('firebase')\n",
    "# Me Imprime toda la Lista\n",
    "print(programas)\n",
    "# Le indico la posicion exacta donde deseo insertar\n",
    "programas.insert(2,'jwt')\n",
    "print(programas)\n",
    "# Eliminar eL ultimo valor de la lista\n",
    "programas.pop()\n",
    "# Eliminar un valor especifico de la lista\n",
    "programas.pop(0)\n",
    "# Modificar el valor de la posicion indicada\n",
    "programas[1]='CLOUD'\n",
    "print(programas)"
   ]
  },
  {
   "cell_type": "code",
   "execution_count": null,
   "metadata": {},
   "outputs": [],
   "source": [
    "# Manejo de Tuplas\n",
    "paises = ('USA','MEXICO','ARGENTINA')\n",
    "print(type(paises))"
   ]
  },
  {
   "cell_type": "code",
   "execution_count": null,
   "metadata": {},
   "outputs": [],
   "source": [
    "# Manejo de Diccionarios - Key  Value\n",
    "alumnos = {'A100':'GONZALES','A200':'PEREZ','A300':'RIVAS'}\n",
    "print(type(alumnos))\n",
    "print(alumnos['A300'])"
   ]
  },
  {
   "cell_type": "markdown",
   "metadata": {},
   "source": [
    "# Operadores Logicos\n",
    "- \" >Mayor \"\n",
    "- \"< Menor \"\n",
    "- \" >= Mayor Igual \"\n",
    "- \" <= Menor Igual \n",
    "- \" != Diferente \"\n",
    "- \" == \" Igual\n",
    "- \" And \" y\n",
    "- \" OR \"  o"
   ]
  },
  {
   "cell_type": "markdown",
   "metadata": {},
   "source": [
    "## Proceso Condicionales - Simples Multiples\n",
    "- Son los procesos que me permiten evaluar una expresion logica que puede toar dos caminos Verdadero O Falso"
   ]
  },
  {
   "cell_type": "code",
   "execution_count": null,
   "metadata": {},
   "outputs": [],
   "source": [
    "# Condicional Simple\n",
    "edad = int(input(\"Ingrese la edad de la persona:\"))\n",
    "if edad> 18:\n",
    "    print(\"La Persona es mayor edad\")\n",
    "else:\n",
    "    print(\"La Persona es menor de edad\")"
   ]
  },
  {
   "cell_type": "code",
   "execution_count": null,
   "metadata": {},
   "outputs": [],
   "source": [
    "#Condiciona Multiple\n",
    "pais = input(\"Ingresar Pais a evaluar:\")\n",
    "if pais == \"usa\" or pais ==\"canada\" or pais ==\"mexico\":\n",
    "    print(\"Centroamerica\")\n",
    "elif pais == \"argentina\":\n",
    "    print(\"sudamerica\")\n",
    "elif pais == \"japon\":\n",
    "    print(\"asia\")\n",
    "else:\n",
    "    print(\"Pais Errado\")"
   ]
  },
  {
   "cell_type": "code",
   "execution_count": null,
   "metadata": {},
   "outputs": [],
   "source": [
    "#Palabras Reservas\n",
    "import keyword\n",
    "print(keyword.kwlist)"
   ]
  },
  {
   "cell_type": "code",
   "execution_count": null,
   "metadata": {},
   "outputs": [],
   "source": [
    "valor = 20"
   ]
  },
  {
   "cell_type": "code",
   "execution_count": null,
   "metadata": {},
   "outputs": [],
   "source": [
    "keyword.iskeyword('While')"
   ]
  },
  {
   "cell_type": "markdown",
   "metadata": {},
   "source": [
    "# Procesos Repetitivos\n",
    "Son bucles que nos permiteran iterar un grupo de instrucciones \"N Veces\"\n",
    "- For  .- Se utilizar cuando se conoce las verse que quiero que se repita la iteraccion\n",
    "- While .-Se utiliza cuado se repita una iteraccion hasta que se cumpla un valor logico"
   ]
  },
  {
   "cell_type": "code",
   "execution_count": null,
   "metadata": {},
   "outputs": [],
   "source": [
    "for num in range(1,20):\n",
    "    print(num,\"Hola Su Un Bucle que se repita 20 veces\")"
   ]
  },
  {
   "cell_type": "code",
   "execution_count": null,
   "metadata": {},
   "outputs": [],
   "source": [
    "edad = 0\n",
    "while edad <18:\n",
    "    edad = edad +1\n",
    "    print(\"Felicitaciones tienes\",edad)"
   ]
  },
  {
   "cell_type": "code",
   "execution_count": null,
   "metadata": {},
   "outputs": [],
   "source": []
  }
 ],
 "metadata": {
  "kernelspec": {
   "display_name": "Python 3",
   "language": "python",
   "name": "python3"
  },
  "language_info": {
   "codemirror_mode": {
    "name": "ipython",
    "version": 3
   },
   "file_extension": ".py",
   "mimetype": "text/x-python",
   "name": "python",
   "nbconvert_exporter": "python",
   "pygments_lexer": "ipython3",
   "version": "3.8.3"
  }
 },
 "nbformat": 4,
 "nbformat_minor": 4
}
