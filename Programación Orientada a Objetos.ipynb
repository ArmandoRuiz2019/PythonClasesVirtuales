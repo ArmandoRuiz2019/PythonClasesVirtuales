{
 "cells": [
  {
   "cell_type": "markdown",
   "metadata": {},
   "source": [
    "### Poo"
   ]
  },
  {
   "cell_type": "code",
   "execution_count": null,
   "metadata": {},
   "outputs": [],
   "source": [
    "class Miprimeraclase:\n",
    "    pass\n",
    "\n",
    "#Instanciando nuestra clase\n",
    "a= miprimeraclase()\n",
    "b= miprimeraclase()\n",
    "print(a)\n",
    "print(b)\n",
    "\n",
    "#El Metodo __init__ se utiiza para asignar valores a las propiedades del objeto\n",
    "#O Otras operaciones que son necesarias cuando el objeto es creado \n",
    "#Constructor\n",
    "class Celular:\n",
    "    def __init__(self,so,color,precio):\n",
    "        self.so=so\n",
    "        self.color=color\n",
    "        self.precio=precio\n",
    "    #Vamos a crear metodos para  __str__ para imprimir mensajes   , este metodo se ejecutara\n",
    "    #Cuando llames o imprimas el objeto  \n",
    "    def __str__(self):\n",
    "        cadena = \"SO:{0} , COLOR:{1} , PRECIO:{2}\".format(self.so,self.color,self.precio)\n",
    "        return cadena\n",
    "    def mensajedestatus(self):\n",
    "        if self.precio>1000:\n",
    "            print(\"El precio del equipo es relativamete caro\")\n",
    "        else:\n",
    "            print(\"El Precio esta al alcance del bolsillo aprovecha!!!\")\n",
    "    \n",
    "#este es el objeto creado en base de la clase celular    \n",
    "equipo1 = Celular('Android','Plateado',750)\n",
    "equipo2 = Celular('Iphone','Blanco',1750)\n",
    "equipo3 = Celular('Windows','Negro',2750)\n",
    "#print(equipo1)\n",
    "equipo1.mensajedestatus()\n",
    "equipo2.mensajedestatus()\n",
    "equipo3.mensajedestatus()\n",
    "#metodo __dict__ me permite ver todos atributos que tiene el objeto y sus valores\n",
    "print(equipo3.__dict__)\n",
    "\n"
   ]
  },
  {
   "cell_type": "markdown",
   "metadata": {},
   "source": [
    "### Ejemplo de POO \n",
    "- Vamos a crear una clase Humano , y en base a esa clase vamos a crear todas las personas \n",
    "\n",
    "![Image](https://pythones.net/wp-content/uploads/2019/01/Clases-y-Objetos-min-577x1024-min.png)\n"
   ]
  },
  {
   "cell_type": "markdown",
   "metadata": {},
   "source": [
    "### Ejemplo"
   ]
  },
  {
   "cell_type": "code",
   "execution_count": null,
   "metadata": {},
   "outputs": [],
   "source": [
    "#Crear un objeto de manera estatica\n",
    "kraken = {\n",
    "    'nombre':'kraken',\n",
    "    'tipo':'marino',\n",
    "    'vida':12,\n",
    "    'resistencia':2\n",
    "}\n",
    "\n",
    "#print(kraken['nombre'])\n",
    "#print(kraken['tipo'])\n",
    "#print(kraken['vida'])\n",
    "#print(kraken['resistencia'])\n",
    "\n",
    "#Crear en base a una plantilla\n",
    "\n",
    "class Espada:\n",
    "    def __init__(self,nombre,rareza,daño,filo):\n",
    "        self.nombre=nombre\n",
    "        self.rareza=rareza\n",
    "        self.daño=daño\n",
    "        self.filo=filo\n",
    "    def atacar(self,objetivo): \n",
    "        if self.filo>0 and objetivo['vida']>0:\n",
    "            objetivo['vida'] -= self.daño + objetivo['resistencia']\n",
    "              # 12                     2   +  2   = 4\n",
    "              # 8                      2   +  2   = 4\n",
    "              # 4\n",
    "              # 0  \n",
    "            self.filo  -=2      \n",
    "        elif objetivo['vida'] <=0:\n",
    "            print('EL' + objetivo['nombre'] + 'a muerto' )\n",
    "        else:\n",
    "            print(\"La Espada se ha quedado sin filo\")\n",
    "            \n",
    "#espadavikinga=Espada('Espada vikinka','comun',6,2)\n",
    "espadaguerrera=Espada('Espada guerrera','comun',2,14)\n",
    "#print(espadavikinga.__dict__)\n",
    "\n",
    "espadaguerrera.atacar(kraken) \n",
    "espadaguerrera.atacar(kraken) # 8\n",
    "espadaguerrera.atacar(kraken) # 4\n",
    "espadaguerrera.atacar(kraken) # 0\n",
    "#espadaguerrera.atacar(kraken)\n",
    "#espadaguerrera.atacar(kraken)\n",
    "#espadaguerrera.atacar(kraken)\n",
    "#Comienzo a atacar\n",
    "#espadavikinga.atacar(kraken)\n",
    "#espadavikinga.atacar(kraken)\n",
    "#espadavikinga.atacar(kraken)\n",
    "#espadavikinga.atacar(kraken)\n",
    "#kraken['vida']\n",
    "            \n",
    "#Modificaciones\n",
    "#1.-QUE APAREZCA EL MENSAJE EL OBJETIVO \"KRAKEN\" ESTA VIVO Y LE QUEDA 8 VIDAS\n",
    "#2.--QUE APAREZCA EL MENSAJE EL OBJETIVO \"KRAKEN\" ESTA VIVO Y LE QUEDA 4 VIDAS\n",
    "#2.--QUE APAREZCA EL MENSAJE EL OBJETIVO \"KRAKEN\" ESTAS SIN VIDAS\n",
    "    \n",
    "    "
   ]
  },
  {
   "cell_type": "code",
   "execution_count": null,
   "metadata": {},
   "outputs": [],
   "source": [
    "# Declarar una clase llamada Familia. definir como atributos el nombre del padre,\n",
    "# el nombre de la madre y una lista con los nombres de lo shijos\n",
    "# Crear un metodo __str__ que nos devuelve el nombre de los padres y sus hijos\n",
    "\n",
    "class Familia:\n",
    "    def __init__(self,padre,madre,hijos=[]):\n",
    "        self.padre=padre\n",
    "        self.madre=madre\n",
    "        self.hijos=hijos\n",
    "    def __str__(self):\n",
    "        cadena = self.padre+\",\"+self.madre\n",
    "        for item in self.hijos:\n",
    "            cadena=cadena+\",\"+item\n",
    "        return cadena    \n",
    "\n",
    "familia1 =Familia(\"Pablo\",\"Ana\",[\"Pepe\",\"Juana\",\"Maria\",\"Cladio\",\"Rosa\"])   \n",
    "print(familia1)"
   ]
  },
  {
   "cell_type": "markdown",
   "metadata": {},
   "source": [
    "### Herencia \n",
    "- Nos permite heredar de una clase padre o BASE los atributos y metodos de otra clases hijas llamads\n",
    "- Tambien clases derivadas"
   ]
  },
  {
   "cell_type": "code",
   "execution_count": 9,
   "metadata": {},
   "outputs": [
    {
     "name": "stdout",
     "output_type": "stream",
     "text": [
      "Juan Perez Ingeniero\n",
      "Maria Gonzales Developer\n"
     ]
    }
   ],
   "source": [
    "#Clase Padre o La Clase Base\n",
    "class Persona:\n",
    "    def __init__(self,nombre,apellido,ocupacion):\n",
    "        self.nombre=nombre\n",
    "        self.apellido=apellido\n",
    "        self.ocupacion=ocupacion\n",
    "    def ImprimirNombre(self):\n",
    "        print(self.nombre,self.apellido,self.ocupacion)\n",
    "        \n",
    "persona1=Persona(\"Juan\",\"Perez\",\"Ingeniero\")\n",
    "persona2=Persona(\"Maria\",\"Gonzales\",\"Developer\")\n",
    "persona1.ImprimirNombre()\n",
    "persona2.ImprimirNombre()\n"
   ]
  },
  {
   "cell_type": "code",
   "execution_count": 10,
   "metadata": {},
   "outputs": [
    {
     "name": "stdout",
     "output_type": "stream",
     "text": [
      "Bienvenido Maximiliano Lopez 2020\n",
      "Clase  Ingeniero\n"
     ]
    }
   ],
   "source": [
    "#La Clase Hija\n",
    "class Estudiante(Persona):\n",
    "    def __init__(self,nombre,apellido,año,ocupacion):\n",
    "        #Llamar a la clase padre persona\n",
    "        Persona.__init__(self,nombre,apellido,ocupacion)\n",
    "        #Propio Atributo de la clase Estudiante clase Hija\n",
    "        self.graduacion=año\n",
    "    def bienvenida(self):\n",
    "        print(\"Bienvenido \",end = \"\")\n",
    "         #Vamos a utlizar la funcion super() en lugar de Persona\n",
    "        super().ImprimirNombre()\n",
    "        #Imprimendo el unico atributo de la clase hija\n",
    "        print(\"Clase \",self.graduacion)\n",
    "\n",
    "estudiante1=Estudiante(\"Maximiliano\",\"Lopez\",\"Ingeniero\",2020)\n",
    "estudiante1.bienvenida()"
   ]
  },
  {
   "cell_type": "markdown",
   "metadata": {},
   "source": [
    "### Herencia Multiple"
   ]
  },
  {
   "cell_type": "code",
   "execution_count": 1,
   "metadata": {},
   "outputs": [],
   "source": [
    "#Clase Base 1\n",
    "class Telefono:\n",
    "    def __init__(self,numero):\n",
    "        self.numero=numero\n",
    "    def telefonear(self):\n",
    "        print(\"Llamando\")\n",
    "    def colgar(self):\n",
    "        print(\"Colgando\")\n",
    "    def __str__(self):\n",
    "        return self.numero"
   ]
  },
  {
   "cell_type": "code",
   "execution_count": 2,
   "metadata": {},
   "outputs": [],
   "source": [
    "#Clase Base2\n",
    "class Camara:\n",
    "    def __init__(self,mpx):\n",
    "        self.mpx=mpx\n",
    "    def fotografiar(self):\n",
    "        print(\"Estoy Fotografiando\")\n",
    "    def __str__(self):\n",
    "        return self.mpx\n",
    "    "
   ]
  },
  {
   "cell_type": "code",
   "execution_count": 3,
   "metadata": {},
   "outputs": [],
   "source": [
    "#Clase Base3\n",
    "class Reproductor:\n",
    "    def __init__(self,capacidad):\n",
    "        self.capacidad=capacidad\n",
    "    def reproducirvideo(self):\n",
    "        print(\"Reproduciondo MP4\")\n",
    "    def reproducirsonido(self):\n",
    "        print(\"Reproduciendo MP3\")\n",
    "    def __str__(self):\n",
    "        return self.capacidad\n",
    "        "
   ]
  },
  {
   "cell_type": "code",
   "execution_count": 4,
   "metadata": {},
   "outputs": [],
   "source": [
    "#Clase Hija\n",
    "class Movil(Telefono,Camara,Reproductor):\n",
    "    def __init__(self,numero,mpx,capacidad):\n",
    "        Telefono.__init__(self,numero)\n",
    "        Camara.__init__(self,mpx)\n",
    "        Reproductor.__init__(self,capacidad)\n",
    "    def __str__(self):\n",
    "        return \"Numero {0},Camara{1},Capacidad{2}\".format(Telefono.__str__(self),Camara.__str__(self),Reproductor.__str__(self))"
   ]
  },
  {
   "cell_type": "code",
   "execution_count": 7,
   "metadata": {},
   "outputs": [
    {
     "name": "stdout",
     "output_type": "stream",
     "text": [
      "Numero 92344555,Camara500px,Capacidad200\n"
     ]
    }
   ],
   "source": [
    "android = Movil('92344555','500px','200')\n",
    "print(android)"
   ]
  },
  {
   "cell_type": "code",
   "execution_count": null,
   "metadata": {},
   "outputs": [],
   "source": []
  }
 ],
 "metadata": {
  "kernelspec": {
   "display_name": "Python 3",
   "language": "python",
   "name": "python3"
  },
  "language_info": {
   "codemirror_mode": {
    "name": "ipython",
    "version": 3
   },
   "file_extension": ".py",
   "mimetype": "text/x-python",
   "name": "python",
   "nbconvert_exporter": "python",
   "pygments_lexer": "ipython3",
   "version": "3.8.3"
  }
 },
 "nbformat": 4,
 "nbformat_minor": 4
}
