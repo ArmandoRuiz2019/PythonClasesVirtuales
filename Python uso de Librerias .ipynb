{
 "cells": [
  {
   "cell_type": "markdown",
   "metadata": {},
   "source": [
    "# Formato decimales"
   ]
  },
  {
   "cell_type": "code",
   "execution_count": null,
   "metadata": {},
   "outputs": [],
   "source": [
    "precio = 2.56666666666\n",
    "print(\"el nuevo valor del precio es %.4f\" %precio)"
   ]
  },
  {
   "cell_type": "markdown",
   "metadata": {},
   "source": [
    "# colecciones\n",
    "- Listas\n",
    "- Diccionarios\n",
    "- Tuplas\n",
    "- sets .- Es un tipo de coleccion de datos no ordenada y no indexada"
   ]
  },
  {
   "cell_type": "code",
   "execution_count": null,
   "metadata": {},
   "outputs": [],
   "source": [
    "esteSet = {\"manzana\",\"banana\",\"cereza\"}\n",
    "miSetNumeros = {1,9,4,2,5,8}\n",
    "#Recorrer los sets\n",
    "for k in esteSet:\n",
    "    print(k)\n",
    "#Preguntar si existe un valor\n",
    "if \"banana\" in esteSet:\n",
    "    print(\"si existe dicha fruta\")\n",
    "else:\n",
    "    print(\"fruta no esta dentro de los datos\")\n",
    "#Adicionar un elemento al SET\n",
    "esteSet.add(\"kiwi\")\n",
    "print(esteSet)\n",
    "#Adicionar multiples valores a partir de una lista\n",
    "esteSet.update([\"naranja\",\"fresa\",\"sandia\"])\n",
    "print(esteSet)\n",
    "#Remover valores del set\n",
    "esteSet.remove(\"banana\")\n",
    "print(esteSet)\n",
    "#unir dos sets\n",
    "superSet = esteSet.union(miSetNumeros)\n",
    "print(superSet)\n",
    "\n",
    "empleados =[\n",
    "     {\"valor\":\"100\"},\n",
    "     {\"valor2\":\"100\"},\n",
    "     {\"valor3\":\"300\"},   \n",
    "]\n",
    "\n",
    "ciudades = {\"perú\":[\"lima\",\"tacna\",\"ica\"]}\n",
    "\n",
    "ip = \"100.10.125.7\",\"100.80.27.34\",\"100.90.27.34\"\n",
    "type(ip)\n",
    "print(ciudades[\"perú\"])"
   ]
  },
  {
   "cell_type": "markdown",
   "metadata": {},
   "source": [
    "# Cadenas\n",
    "las cadenas de texto en python puede definirse de dos formas \"\" , ''\n",
    "- nombrecompleto = \"jose perez\"\n",
    "- flag = 'x'"
   ]
  },
  {
   "cell_type": "code",
   "execution_count": null,
   "metadata": {},
   "outputs": [],
   "source": [
    "unacadena = \"Esa es una cadena de texto\"\n",
    "otrocadena =\"Esta es otra cadena de texto\"\n",
    "#Lineas Multiples\n",
    "#a = \"\"\"Lorem Ipsum es simplemente el texto de relleno de las imprentas y archivos de texto\n",
    "#Lorem Ipsum ha sido el texto de relleno estándar de las industrias desde el año 1500 .\"\"\"\n",
    "#print(a)\n",
    "#Trabajar con arreglos en cadena  \n",
    "a = \"Cad,ena de texto\"\n",
    "print(a[2])\n",
    "print(unacadena[1])\n",
    "print(otrocadena[1])\n",
    "# Tomar  del caracter 2 al 5 incluido\n",
    "print(a[2:5])\n",
    "# Indexacion negativa \n",
    "print(a[-5:-2])\n",
    "# Longitud de una cadena\n",
    "len(a)\n",
    "# Elminar espacios en blanco de una cadena\n",
    "datos =\"siguiente cadena de texto\"\n",
    "print(datos.strip())\n",
    "\n",
    "#volver todo a minuscula\n",
    "print(a.lower())\n",
    "#volver todo a mayuscula\n",
    "print(a.upper())\n",
    "\n",
    "#Reeemplazar cadena de caracteres\n",
    "print(datos.replace(\"a\",\"xxx\"))\n",
    "\n",
    "#dividir una cadena en subcadenas \n",
    "print(a.split(\",\"))\n",
    "\n",
    "#Colocar mayusculas a la primera letra\n",
    "mensaje =\"siguiente cadena de texto cadena\"\n",
    "\n",
    "mensaje.capitalize()\n",
    "\n",
    "#contabilizar el numero de ocurrencias de una subcadena\n",
    "\n",
    "res = mensaje.count(\"cadena\")\n",
    "print(res)\n",
    "\n",
    "#Busqueda de cadenas\n",
    "print(mensaje.find(\"cadena\"))\n",
    "\n",
    "#Hacer particiones de cadenas , tomando una subcadena\n",
    "\n",
    "sub = mensaje.partition(\"cadena\")\n",
    "print(sub)\n",
    "\n",
    "\n"
   ]
  },
  {
   "cell_type": "markdown",
   "metadata": {},
   "source": [
    "#Metodos verficiar elementos de una cadena\n",
    "\n",
    "- Alfanumericos (.isalnum())\n",
    "- Alfabeticos (.isalpha())\n",
    "- Numero (.isdigit())\n",
    "- Letra May (.isupper())\n",
    "- Letra Min (.islower())\n",
    "- Espacios (.isspace())\n",
    "- Numericos (.isnumeric()) - 2 %"
   ]
  },
  {
   "cell_type": "code",
   "execution_count": null,
   "metadata": {},
   "outputs": [],
   "source": [
    "x = \"23\"\n",
    "if x.isdigit():\n",
    "    print(\"La cadena contiene numeros en su contenido\")"
   ]
  },
  {
   "cell_type": "markdown",
   "metadata": {},
   "source": [
    "# Manejo de Excepciones\n",
    "Las excepciones permite controlar los errores de un programa en tiempo de ejecuccion . Generalmente cuando un error ocurre (division entre cero) el programa normalmente genera un mensaje de error.el terminino tecnico para esto es que el programa lanza una excepcion.\n",
    "para esto se utiliza la instruccion \n",
    " - try-excep-else-finally"
   ]
  },
  {
   "cell_type": "code",
   "execution_count": null,
   "metadata": {},
   "outputs": [],
   "source": [
    "l=\"20\"\n",
    "try:\n",
    "    #El cuerpo del programa que se va a evaluar\n",
    "    print(l)\n",
    "except:\n",
    "    #Cuando elprograma encuentre u error entrara a este bloque except\n",
    "    print(\"Ha ocurrido una excepcion\")\n",
    "else:\n",
    "    #Cuando no ocurre ningun error\n",
    "    print(\"No Ha Existido ninguna excepcion\")\n",
    "finally:\n",
    "    # Siempre se ejcuta\n",
    "    print(\"el bloque try-except termino correctamente\")"
   ]
  },
  {
   "cell_type": "code",
   "execution_count": null,
   "metadata": {},
   "outputs": [],
   "source": [
    "print(f)"
   ]
  },
  {
   "cell_type": "code",
   "execution_count": null,
   "metadata": {},
   "outputs": [],
   "source": [
    "def divide(x,y):\n",
    "    try:\n",
    "        resultado = x // y\n",
    "    except:\n",
    "        print(\"Error no se puede dividir entre cero\")\n",
    "    else:\n",
    "        print(\"El Resultado es:\"+str(resultado))\n",
    "divide(5,5)        "
   ]
  },
  {
   "cell_type": "markdown",
   "metadata": {},
   "source": [
    "# Funciones Lambda\n",
    "La funcion lambda es una peque funcion anonima que puede tomar cualquier numero de argumentos pero solo tiene una expresion : cual es su sintaxis?\n",
    "- lambda argumentos : expresion"
   ]
  },
  {
   "cell_type": "code",
   "execution_count": null,
   "metadata": {},
   "outputs": [],
   "source": [
    "# se declara una funcion que sume 10 al argumento que le voy pasar\n",
    "\n",
    "x= lambda a: a+10\n",
    "print(x(20))\n",
    "\n",
    "# Ahora mas argumentos en la funcion lambda\n",
    "\n",
    "x2 = lambda a,b:a*b\n",
    "print(x2(5,6))"
   ]
  },
  {
   "cell_type": "code",
   "execution_count": null,
   "metadata": {},
   "outputs": [],
   "source": [
    "def mifuncion(n):\n",
    "    return lambda a: a*n\n",
    "\n",
    "duplicador = mifuncion(2)\n",
    "print(duplicador(11))\n",
    "\n",
    "triplicador = mifuncion(3)\n",
    "print(triplicador(11))"
   ]
  },
  {
   "cell_type": "markdown",
   "metadata": {},
   "source": [
    "# Manejo de Librerias\n"
   ]
  },
  {
   "cell_type": "code",
   "execution_count": null,
   "metadata": {},
   "outputs": [],
   "source": [
    "import math\n",
    "math.pi"
   ]
  },
  {
   "cell_type": "code",
   "execution_count": null,
   "metadata": {},
   "outputs": [],
   "source": [
    "math.cos(math.pi/4)"
   ]
  },
  {
   "cell_type": "code",
   "execution_count": null,
   "metadata": {},
   "outputs": [],
   "source": [
    "#Me permite trabajar con numeros aleatorios que se generan al AZAR\n",
    "import random\n",
    "random.choice(['hector','cristina','deisy'])"
   ]
  },
  {
   "cell_type": "code",
   "execution_count": null,
   "metadata": {},
   "outputs": [],
   "source": [
    "random.random()"
   ]
  },
  {
   "cell_type": "code",
   "execution_count": null,
   "metadata": {},
   "outputs": [],
   "source": [
    "print(random.randrange(555))"
   ]
  },
  {
   "cell_type": "code",
   "execution_count": null,
   "metadata": {},
   "outputs": [],
   "source": [
    "import statistics\n",
    "datos = [2.90,10.5,14.7,23.7,10.5]\n",
    "# Media Aritmetica(\"Promedio\")\n",
    "#statistics.mean(datos)\n",
    "# Valor medio de los datos\n",
    "#statistics.median(datos)\n",
    "# La Variance\n",
    "statistics.variance(datos)\n",
    "# La Moda de los datos\n",
    "statistics.mode(datos)"
   ]
  },
  {
   "cell_type": "code",
   "execution_count": null,
   "metadata": {},
   "outputs": [],
   "source": [
    "from datetime import date\n",
    "hoy = date.today()\n",
    "hoy"
   ]
  },
  {
   "cell_type": "markdown",
   "metadata": {},
   "source": [
    "# El Trabajo de la semana\n",
    "- Un Reproductor de Voz\n"
   ]
  },
  {
   "cell_type": "code",
   "execution_count": null,
   "metadata": {},
   "outputs": [],
   "source": [
    "# Importar el modulo para la conversion de texto a audio\n",
    "# Antes debera instalar la lbreria pip install gtts\n",
    "from gtts import gTTS\n",
    "# Generar el archivo de audio y ejecutarlo\n",
    "import os\n",
    "# El texto que voy a reprodcir a AUDIO\n",
    "mytexto =\"Cual es tu nombre ahora\"\n",
    "lenguage = \"en\"\n",
    "#pasar el texto y el lenguaje al motor , ademas se utiliza paramtros que\n",
    "#me permitiran controlar los argumentos de la librerias\n",
    "#El slow reproduce el texto a alta velocidad\n",
    "myobj = gTTS(text=mytexto,lang=lenguage,slow=False)\n",
    "#Salvar el audio en un archivo MP3\n",
    "myobj.save(\"codigoaudio.mp3\")\n",
    "#Reproducir el Audio generado\n",
    "os.system(\"start codigoaudio.mp3\")"
   ]
  },
  {
   "cell_type": "markdown",
   "metadata": {},
   "source": [
    "# Trabajar con Archivos CSV de excel"
   ]
  },
  {
   "cell_type": "code",
   "execution_count": null,
   "metadata": {},
   "outputs": [],
   "source": [
    "#Importar la libreria CSV para abrir archivos en formato excel-cvs\n",
    "import csv\n",
    "def cargamasiva():\n",
    "    #Aperturo el archivo \"R\" solo para leerlo respetando los caracteres  especiales\n",
    "    csvarchivo =open('d://data.csv','r',encoding='utf-8')\n",
    "    #leeo el archivo\n",
    "    entrada = csv.reader(csvarchivo)\n",
    "    #recorrer el archivo\n",
    "    for reg in entrada:\n",
    "        print(reg)\n",
    "    csvarchivo.close()\n",
    "    \n",
    "cargamasiva()    "
   ]
  },
  {
   "cell_type": "markdown",
   "metadata": {},
   "source": [
    "# Libreria pygame"
   ]
  },
  {
   "cell_type": "code",
   "execution_count": null,
   "metadata": {},
   "outputs": [],
   "source": [
    "#Debera  antes instalar la libreria pip install pygame\n",
    "import pygame\n",
    "#Se inicializa la libreria\n",
    "pygame.init()\n",
    "#Muestro la ventana GUI en poscion x,y de mi pantalla\n",
    "window = pygame.display.set_mode((500,400))\n",
    "while True:\n",
    "    #Dbujar la figura geometrica en base a lineas (color),true,(lineas a dibujar) \n",
    "    pygame.draw.lines(window,(0,255,255),True,((50,50),(75,75),(63,100),(38,100),(25,75)),3)\n",
    "    #Actualizas en tu window\n",
    "    pygame.display.update()\n"
   ]
  },
  {
   "cell_type": "markdown",
   "metadata": {},
   "source": [
    "# Programacion orientada a objetos"
   ]
  },
  {
   "cell_type": "code",
   "execution_count": null,
   "metadata": {},
   "outputs": [],
   "source": []
  }
 ],
 "metadata": {
  "kernelspec": {
   "display_name": "Python 3",
   "language": "python",
   "name": "python3"
  },
  "language_info": {
   "codemirror_mode": {
    "name": "ipython",
    "version": 3
   },
   "file_extension": ".py",
   "mimetype": "text/x-python",
   "name": "python",
   "nbconvert_exporter": "python",
   "pygments_lexer": "ipython3",
   "version": "3.8.3"
  }
 },
 "nbformat": 4,
 "nbformat_minor": 4
}
