{
 "cells": [
  {
   "cell_type": "markdown",
   "metadata": {},
   "source": [
    "# Variables Operadores de comparacion y logicos\n",
    "- Las variables son nombres de objetos que residen en memoria\n",
    "- Una Variabe puede ser nombrada como gustes :\n",
    "  -El primer caracter no puede ser un numero\n",
    "  -No Usar simbolos especiales !, @ , # , $ , % etc\n",
    "  -No debe ser nombrada igual que una palabra reservada\n",
    "  -A las Variables hay que asignarles un tipo de datos y un valor con el signo =\n",
    "  -La Variable asignada debera ir al lado izquierdo del = y el valor a asignar al lado derecho\n",
    "  -Python suguiere  que los nombre de las variables sean de tipo snake_case esto se refire a nombre en minusculas separados\n",
    "  entre palabras por un guion bajo , por ejemplo el nombre de un estudiante \n",
    "  - Tipo Camel Case inician con mayuscula el nombre de cada palabra\n",
    "  \n"
   ]
  },
  {
   "cell_type": "code",
   "execution_count": 26,
   "metadata": {},
   "outputs": [],
   "source": [
    "# Tipo String\n",
    "nombe = \"Armando\"\n",
    "# Tipo Entero\n",
    "edad = 20\n",
    "# Tipo Decimal\n",
    "precio = 20.8\n",
    "# Tipo Booleano\n",
    "aprobado = True\n",
    "# Tipo Lista\n",
    "notas = [20,18,17]\n",
    "# Tipo Tupla\n",
    "cursos = ('python','django','flask')\n",
    "# Tipo Diccionarios\n",
    "empleado = {\"A100\":\"GOMEZ\",\"A200\":\"RUIZ\"}\n",
    "nombre_estudiante=\"Armando Ruiz\"\n",
    "NombreEstudiante =\"Armando Ruiz\"\n",
    "estudiante=\"Jose\"\n"
   ]
  },
  {
   "cell_type": "code",
   "execution_count": 3,
   "metadata": {},
   "outputs": [
    {
     "name": "stdout",
     "output_type": "stream",
     "text": [
      "13\n"
     ]
    }
   ],
   "source": [
    "# Procedencia de los Operadores\n",
    "# EXPONENTE **\n",
    "# NEGACION -\n",
    "# MULTIPLICACION,DIVISION,DIVISION ENTERA,MODULO\n",
    "# SUMA , RESTA\n",
    "res = 3 * 2 + 7\n",
    "print (res)"
   ]
  },
  {
   "cell_type": "code",
   "execution_count": 4,
   "metadata": {},
   "outputs": [
    {
     "data": {
      "text/plain": [
       "200.0"
      ]
     },
     "execution_count": 4,
     "metadata": {},
     "output_type": "execute_result"
    }
   ],
   "source": [
    "300 / 300 * 200"
   ]
  },
  {
   "cell_type": "code",
   "execution_count": 5,
   "metadata": {},
   "outputs": [
    {
     "data": {
      "text/plain": [
       "200.0"
      ]
     },
     "execution_count": 5,
     "metadata": {},
     "output_type": "execute_result"
    }
   ],
   "source": [
    "300 * 200 / 300\n"
   ]
  },
  {
   "cell_type": "code",
   "execution_count": 7,
   "metadata": {},
   "outputs": [
    {
     "data": {
      "text/plain": [
       "8"
      ]
     },
     "execution_count": 7,
     "metadata": {},
     "output_type": "execute_result"
    }
   ],
   "source": [
    "# EL exponenete calcula dos elevado a la tres\n",
    "2 ** 3\n"
   ]
  },
  {
   "cell_type": "markdown",
   "metadata": {},
   "source": [
    "# Formatos en Python\n"
   ]
  },
  {
   "cell_type": "code",
   "execution_count": 14,
   "metadata": {},
   "outputs": [
    {
     "name": "stdout",
     "output_type": "stream",
     "text": [
      "Armando tiene 43\n",
      "Armando tiene 43\n",
      "Armandotiene43\n"
     ]
    }
   ],
   "source": [
    "\"\"\" %s  STRING\n",
    " %d  INTEGER\n",
    " %f  FLOAT \"\"\"\n",
    "mentor = \"Armando\"\n",
    "curso = \"Python\"\n",
    "edad = 43\n",
    "salario = 1700\n",
    "print (\"%s tiene %d\" %(mentor,edad))\n",
    "print (mentor,\"tiene\",edad)\n",
    "print(mentor + \"tiene\"+ str(edad))"
   ]
  },
  {
   "cell_type": "code",
   "execution_count": 13,
   "metadata": {},
   "outputs": [
    {
     "name": "stdout",
     "output_type": "stream",
     "text": [
      "Ingrese el monto a consumir1200\n",
      "El Descuento: 240.0 , El Impuesto 180.0 , El Total 1140.0\n"
     ]
    }
   ],
   "source": [
    "consumo =float(input(\"Ingrese el monto a consumir\"))\n",
    "if consumo <=100:\n",
    "    des = consumo * 0.10\n",
    "else:\n",
    "    des = consumo * 0.20\n",
    "imp = consumo * 0.15\n",
    "total = (consumo - des) + imp\n",
    "print (\"El Descuento: {} , El Impuesto {} , El Total {}\".format(des,imp,total))"
   ]
  },
  {
   "cell_type": "markdown",
   "metadata": {},
   "source": [
    "# Procesos Repetitivos\n",
    "- **break** salir del bucle\n",
    "- **continue** seguir el proceso"
   ]
  },
  {
   "cell_type": "code",
   "execution_count": 21,
   "metadata": {},
   "outputs": [
    {
     "name": "stdout",
     "output_type": "stream",
     "text": [
      "Aun No Llego a Diez 1\n",
      "Aun No Llego a Diez 2\n",
      "Aun No Llego a Diez 3\n",
      "Aun No Llego a Diez 4\n",
      "Aun No Llego a Diez 5\n",
      "Aun No Llego a Diez 6\n",
      "Aun No Llego a Diez 7\n",
      "Aun No Llego a Diez 8\n",
      "Aun No Llego a Diez 9\n"
     ]
    }
   ],
   "source": [
    "for i in range(1,10):\n",
    "    if i == 10:\n",
    "        break\n",
    "    else:\n",
    "        print(\"Aun No Llego a Diez\",i)\n",
    "        continue\n",
    "\n"
   ]
  },
  {
   "cell_type": "code",
   "execution_count": 22,
   "metadata": {},
   "outputs": [
    {
     "name": "stdout",
     "output_type": "stream",
     "text": [
      "Ingresar Valores200\n",
      "Ingresar Valores300\n",
      "Ingresar Valores100\n",
      "Ingresar Valores100\n",
      "Ingresar Valores100\n",
      "Cantidad de valores ingresado: 5\n",
      "Suma de esos valores: 800\n"
     ]
    }
   ],
   "source": [
    "#Contadores\n",
    "#Acumuladores\n",
    "c=0 \n",
    "sum=0\n",
    "for i in range(5):\n",
    "    valor = int(input(\"Ingresar Valores:\"))\n",
    "    c += 1 # Trabajar con un caontador dentro de un bucle\n",
    "    sum += valor # Trabajar con un acumulador de un bucle\n",
    "print(\"Cantidad de valores ingresado:\",c)\n",
    "print(\"Suma de esos valores:\",sum)"
   ]
  },
  {
   "cell_type": "code",
   "execution_count": 23,
   "metadata": {},
   "outputs": [
    {
     "name": "stdout",
     "output_type": "stream",
     "text": [
      "['PYTHON', 'DJANGO', 'FLASK']\n"
     ]
    }
   ],
   "source": [
    "cursos = ['PYTHON','DJANGO','FLASK']\n",
    "print(cursos)"
   ]
  },
  {
   "cell_type": "code",
   "execution_count": 24,
   "metadata": {},
   "outputs": [
    {
     "name": "stdout",
     "output_type": "stream",
     "text": [
      "Yo Estudio estos cursos PYTHON\n",
      "Yo Estudio estos cursos DJANGO\n",
      "Yo Estudio estos cursos FLASK\n"
     ]
    }
   ],
   "source": [
    "for item in cursos:\n",
    "    print(\"Yo Estudio estos cursos\",item)"
   ]
  },
  {
   "cell_type": "code",
   "execution_count": 27,
   "metadata": {},
   "outputs": [
    {
     "name": "stdout",
     "output_type": "stream",
     "text": [
      "Jose\n"
     ]
    }
   ],
   "source": [
    "print(estudiante)"
   ]
  },
  {
   "cell_type": "code",
   "execution_count": 38,
   "metadata": {},
   "outputs": [
    {
     "name": "stdout",
     "output_type": "stream",
     "text": [
      "Ingrese la Palabra:murcielago\n",
      "La Vocal: a  Aparece 1 veces\n",
      "La Vocal: e  Aparece 1 veces\n",
      "La Vocal: i  Aparece 1 veces\n",
      "La Vocal: o  Aparece 1 veces\n",
      "La Vocal: u  Aparece 1 veces\n"
     ]
    }
   ],
   "source": [
    "# escribir un programa que pida al usuario una palabra y muestre por pantalla el numero de veces que contiene una vocal\n",
    "palabra = input(\"Ingrese la Palabra:\")\n",
    "vocales = ['a','e','i','o','u']\n",
    "for vocal in vocales:\n",
    "    con =0\n",
    "    for letra in palabra:\n",
    "        if letra == vocal:\n",
    "            con += 1\n",
    "    print (\"La Vocal: {}  Aparece {} veces\".format(vocal,con))\n",
    "    "
   ]
  },
  {
   "cell_type": "code",
   "execution_count": 41,
   "metadata": {},
   "outputs": [
    {
     "name": "stdout",
     "output_type": "stream",
     "text": [
      "Ingrese la contraseña para entrer al sistema:codigo\n",
      "Bienvenido al Sistema\n"
     ]
    }
   ],
   "source": [
    "# while\n",
    "passw = \"codigo\"\n",
    "cont = 0\n",
    "while True:\n",
    "    con =input(\"Ingrese la contraseña para entrer al sistema:\")\n",
    "    if con == passw:\n",
    "        print(\"Bienvenido al Sistema\")\n",
    "        break\n",
    "    else:\n",
    "        print(\"La Contraseña errada\")\n",
    "        cont += 1\n",
    "        if cont == 3:\n",
    "            print(\"Supero los intentos , vuelva a intentarlo dentro de 24 Horas\")\n",
    "            break\n"
   ]
  },
  {
   "cell_type": "code",
   "execution_count": 45,
   "metadata": {},
   "outputs": [
    {
     "name": "stdout",
     "output_type": "stream",
     "text": [
      "Ingrese contraseña:adminadminadmin\n",
      "Contraseña adminadminadmin Aceptada en el formato\n"
     ]
    }
   ],
   "source": [
    "correcto = False\n",
    "while not correcto:\n",
    "    password = input(\"Ingrese contraseña:\")\n",
    "    if len(password) <10 or len(password) >20:\n",
    "        print(\"Error , la contraseña no cumple con el formato requerido\")\n",
    "    else:\n",
    "        correcto =True\n",
    "        break\n",
    "print(\"Contraseña\",password,\"Aceptada en el formato\")        "
   ]
  },
  {
   "cell_type": "markdown",
   "metadata": {},
   "source": [
    "# Diccionarios\n"
   ]
  },
  {
   "cell_type": "code",
   "execution_count": 49,
   "metadata": {},
   "outputs": [],
   "source": [
    "mi_diccionario = {'bolivia':'la paz','argentina':'bns aires','chile':'santiago'}"
   ]
  },
  {
   "cell_type": "code",
   "execution_count": 50,
   "metadata": {},
   "outputs": [
    {
     "name": "stdout",
     "output_type": "stream",
     "text": [
      "{'bolivia': 'la paz', 'argentina': 'bns aires', 'chile': 'santiago'}\n"
     ]
    }
   ],
   "source": [
    "print(mi_diccionario)"
   ]
  },
  {
   "cell_type": "code",
   "execution_count": 51,
   "metadata": {},
   "outputs": [
    {
     "name": "stdout",
     "output_type": "stream",
     "text": [
      "santiago\n"
     ]
    }
   ],
   "source": [
    "print(mi_diccionario['chile'])"
   ]
  },
  {
   "cell_type": "code",
   "execution_count": 52,
   "metadata": {},
   "outputs": [],
   "source": [
    "mi_diccionario['perú']='lima'"
   ]
  },
  {
   "cell_type": "code",
   "execution_count": 53,
   "metadata": {},
   "outputs": [
    {
     "name": "stdout",
     "output_type": "stream",
     "text": [
      "{'bolivia': 'la paz', 'argentina': 'bns aires', 'chile': 'santiago', 'perú': 'lima'}\n"
     ]
    }
   ],
   "source": [
    "print(mi_diccionario)\n"
   ]
  },
  {
   "cell_type": "code",
   "execution_count": 54,
   "metadata": {},
   "outputs": [
    {
     "name": "stdout",
     "output_type": "stream",
     "text": [
      "{'bolivia': 'la paz', 'argentina': 'bns aires', 'perú': 'lima'}\n"
     ]
    }
   ],
   "source": [
    "del mi_diccionario['chile']\n",
    "print(mi_diccionario)"
   ]
  },
  {
   "cell_type": "code",
   "execution_count": 55,
   "metadata": {},
   "outputs": [
    {
     "name": "stdout",
     "output_type": "stream",
     "text": [
      "dict_values(['la paz', 'bns aires', 'lima'])\n",
      "dict_keys(['bolivia', 'argentina', 'perú'])\n"
     ]
    }
   ],
   "source": [
    "print(mi_diccionario.values())\n",
    "print(mi_diccionario.keys())"
   ]
  },
  {
   "cell_type": "code",
   "execution_count": 56,
   "metadata": {},
   "outputs": [],
   "source": [
    "clientes = [\n",
    "    {'nombre':'hector','apellido':'gomez','dni':'10210904'},\n",
    "    {'nombre':'manuel','apellido':'gomez','dni':'10210905'},\n",
    "    {'nombre':'pedro','apellido':'gomez','dni':'10210906'},\n",
    "    {'nombre':'maria','apellido':'gomez','dni':'10210907'},\n",
    "    {'nombre':'josefina','apellido':'gomez','dni':'10210908'}\n",
    "]"
   ]
  },
  {
   "cell_type": "code",
   "execution_count": 57,
   "metadata": {},
   "outputs": [],
   "source": [
    "def bienvenido():\n",
    "    print(\"Hola Como estas\")"
   ]
  },
  {
   "cell_type": "code",
   "execution_count": 58,
   "metadata": {},
   "outputs": [
    {
     "name": "stdout",
     "output_type": "stream",
     "text": [
      "Hola Como estas\n"
     ]
    }
   ],
   "source": [
    "bienvenido()"
   ]
  },
  {
   "cell_type": "code",
   "execution_count": 62,
   "metadata": {},
   "outputs": [],
   "source": [
    "def buscar_cliente(clie,dni):\n",
    "    for c in clie:\n",
    "        if (dni == c['dni']):\n",
    "            print('{} {}'.format(c['nombre'],c['apellido']))\n",
    "            break\n",
    "    print(\"Cliente no esta registrado en nuestra Base de datos\")    "
   ]
  },
  {
   "cell_type": "code",
   "execution_count": 66,
   "metadata": {},
   "outputs": [
    {
     "name": "stdout",
     "output_type": "stream",
     "text": [
      "manuelgomez\n",
      "Cliente no esta registrado en nuestra Base de datos\n"
     ]
    }
   ],
   "source": [
    "buscar_cliente(clientes,'10210905')"
   ]
  },
  {
   "cell_type": "code",
   "execution_count": 68,
   "metadata": {},
   "outputs": [
    {
     "name": "stdout",
     "output_type": "stream",
     "text": [
      "[4, 8]\n"
     ]
    }
   ],
   "source": [
    "#construir una nueva lista que mutiple por dos solo los numeros pares de una lista antigua\n",
    "numeros =[1,2,3,4,5]\n",
    "numeros_pares_doblados=[]\n",
    "for n in numeros:\n",
    "    if (n % 2 == 0):\n",
    "        numeros_pares_doblados.append(n*2)\n",
    "print(numeros_pares_doblados)        \n",
    "        "
   ]
  },
  {
   "cell_type": "markdown",
   "metadata": {},
   "source": [
    "# Comprension de Listas"
   ]
  },
  {
   "cell_type": "code",
   "execution_count": 70,
   "metadata": {},
   "outputs": [
    {
     "name": "stdout",
     "output_type": "stream",
     "text": [
      "[4, 8]\n"
     ]
    }
   ],
   "source": [
    "# [expresion for item in lista condicional]\n",
    "numeros_pares_doblados=[n*2 for n in numeros if n % 2 == 0]\n",
    "print(numeros_pares_doblados)"
   ]
  },
  {
   "cell_type": "markdown",
   "metadata": {},
   "source": [
    "# Separador\n",
    "- puede mostrar cualquier caracter entre los argumentos"
   ]
  },
  {
   "cell_type": "code",
   "execution_count": 73,
   "metadata": {},
   "outputs": [
    {
     "name": "stdout",
     "output_type": "stream",
     "text": [
      "hola<->mundo\n",
      "holamundo\n"
     ]
    }
   ],
   "source": [
    "print(\"hola\",\"mundo\",sep='<->')\n",
    "print(\"hola\" ,end=\"\")\n",
    "print(\"mundo\")"
   ]
  },
  {
   "cell_type": "code",
   "execution_count": 72,
   "metadata": {},
   "outputs": [
    {
     "name": "stdout",
     "output_type": "stream",
     "text": [
      "Saltos de linea. Viene un salto \n",
      "\n",
      " \n",
      "\t tabuelador \n",
      "\n",
      " \n",
      "comillas .Comillas dentro: \"Hola\" \n"
     ]
    }
   ],
   "source": [
    "print(\"Saltos de linea. Viene un salto \\n\\n \")\n",
    "print(\"\\t tabuelador \\n\\n \")\n",
    "print(\"comillas .Comillas dentro: \\\"Hola\\\" \")"
   ]
  },
  {
   "cell_type": "code",
   "execution_count": null,
   "metadata": {},
   "outputs": [],
   "source": []
  }
 ],
 "metadata": {
  "kernelspec": {
   "display_name": "Python 3",
   "language": "python",
   "name": "python3"
  },
  "language_info": {
   "codemirror_mode": {
    "name": "ipython",
    "version": 3
   },
   "file_extension": ".py",
   "mimetype": "text/x-python",
   "name": "python",
   "nbconvert_exporter": "python",
   "pygments_lexer": "ipython3",
   "version": "3.8.3"
  }
 },
 "nbformat": 4,
 "nbformat_minor": 4
}
